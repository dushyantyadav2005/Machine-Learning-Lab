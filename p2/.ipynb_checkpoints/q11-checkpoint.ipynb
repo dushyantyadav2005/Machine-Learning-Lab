{
 "cells": [
  {
   "cell_type": "code",
   "execution_count": 1,
   "id": "bdb558f5-a9c9-4da5-b318-6e4d537e23d5",
   "metadata": {},
   "outputs": [],
   "source": [
    "import pandas as pd\n",
    "import numpy as np\n",
    "import matplotlib.pyplot as plt\n",
    "%matplotlib inline"
   ]
  },
  {
   "cell_type": "code",
   "execution_count": 2,
   "id": "98cbeda7-ed27-4858-9ee5-d9965a704d4b",
   "metadata": {},
   "outputs": [],
   "source": [
    "df=pd.read_csv('Housing.csv')"
   ]
  },
  {
   "cell_type": "code",
   "execution_count": 8,
   "id": "e50c16aa-459c-4bca-97c2-8a77af45e4f6",
   "metadata": {},
   "outputs": [],
   "source": [
    "# Replacement\n",
    "df[\"mainroad\"] = df[\"mainroad\"].replace({\"yes\": 1, \"no\": 0})\n",
    "df[\"guestroom\"] = df[\"guestroom\"].replace({\"yes\": 1, \"no\": 0})\n",
    "df[\"basement\"] = df[\"basement\"].replace({\"yes\": 1, \"no\": 0})\n",
    "df[\"hotwaterheating\"] = df[\"hotwaterheating\"].replace({\"yes\": 1, \"no\": 0})\n",
    "df[\"airconditioning\"] = df[\"airconditioning\"].replace({\"yes\": 1, \"no\": 0})\n",
    "df[\"prefarea\"] = df[\"prefarea\"].replace({\"yes\": 1, \"no\": 0})\n",
    "df[\"furnishingstatus\"] = df[\"furnishingstatus\"].replace({\n",
    "    \"furnished\": 2,\n",
    "    \"semi-furnished\": 1,\n",
    "    \"unfurnished\": 0\n",
    "})"
   ]
  },
  {
   "cell_type": "code",
   "execution_count": 9,
   "id": "e9ff18c8-cdfd-46e1-a953-846e168b2c8c",
   "metadata": {},
   "outputs": [],
   "source": [
    "#split data training\n",
    "y=df[\"price\"]\n",
    "y=np.array(y)\n",
    "X=df.drop(columns=\"price\")\n",
    "X=np.array(X)"
   ]
  },
  {
   "cell_type": "code",
   "execution_count": 11,
   "id": "fca21df2-165f-4bad-a064-3a70689eae63",
   "metadata": {},
   "outputs": [],
   "source": [
    "#split and standardization\n",
    "from sklearn.model_selection import train_test_split\n",
    "X_train,X_test,Y_train,Y_test=train_test_split(X,y,test_size=0.25,random_state=42)"
   ]
  },
  {
   "cell_type": "code",
   "execution_count": 12,
   "id": "abbf3559-0ae8-48ce-857e-f8de83e25ed4",
   "metadata": {},
   "outputs": [],
   "source": [
    "## standarization\n",
    "mean=np.mean(X_train,axis=0)\n",
    "stan_dev=np.std(X_train,axis=0)\n",
    "X_train=(X_train-mean)/stan_dev\n",
    "X_test=(X_test-mean)/stan_dev\n",
    "mean_y=np.mean(Y_train)\n",
    "stan_y=np.std(Y_train)\n",
    "Y_train=(Y_train-mean_y)/stan_y\n",
    "Y_test=(Y_train-mean_y)/stan_y"
   ]
  },
  {
   "cell_type": "code",
   "execution_count": 13,
   "id": "232c9953-2c1b-477e-9daf-48fc9041394f",
   "metadata": {},
   "outputs": [],
   "source": [
    "def online_learning(x, y, w):\n",
    "    learning_rate=0.00000001\n",
    "    for i in range(len(x)):\n",
    "        y_pred = sum([w[j] * x[i][j] for j in range(len(x[i]))])\n",
    "        y_pred+= w[-1] # bias term\n",
    "        error = y[i] - y_pred\n",
    "        for j in range(len(w)):\n",
    "            if(j==len(w)-1):\n",
    "                w[j] -= -2*learning_rate * error #bias term diffrention different\n",
    "            else:\n",
    "               w[j] -= -2*learning_rate * error * x[i][j]"
   ]
  },
  {
   "cell_type": "code",
   "execution_count": 14,
   "id": "bbf4cea7-428c-49bd-b447-874e5be72875",
   "metadata": {},
   "outputs": [],
   "source": [
    "w=[1,1,1,1,1,1,1,1,1,1,1,1]\n",
    "online_learning(X_train,Y_train,w)"
   ]
  },
  {
   "cell_type": "code",
   "execution_count": 15,
   "id": "8a67152d-8dcc-4d3b-8c21-8c17fab8b4a7",
   "metadata": {},
   "outputs": [
    {
     "name": "stdout",
     "output_type": "stream",
     "text": [
      "avg diff  1.704483302979203\n"
     ]
    }
   ],
   "source": [
    "diff=0\n",
    "for i in range(len(X_test)):\n",
    "    y_pred=sum([w[j] * X_test[i][j] for j in range(len(X_test[i]))])+w[-1]\n",
    "#    print(\"actual : \",y[i])\n",
    "    diff+=abs(Y_test[i]-y_pred)\n",
    "\n",
    "print(\"avg diff \",diff/len(X_train))"
   ]
  },
  {
   "cell_type": "code",
   "execution_count": 16,
   "id": "81b48762-66d3-4a1c-9093-c96d75f76666",
   "metadata": {},
   "outputs": [],
   "source": [
    "#split data training\n",
    "y=df[\"price\"]\n",
    "y=np.array(y)\n",
    "X=df.drop(columns=\"price\")\n",
    "X=np.array(X)"
   ]
  },
  {
   "cell_type": "code",
   "execution_count": 17,
   "id": "aa3d5371-b30e-4f4f-b03a-c30a00238edd",
   "metadata": {},
   "outputs": [],
   "source": [
    "max_x=np.max(X_train,axis=0)\n",
    "min_x=np.min(X_train,axis=0)\n",
    "min_y=np.min(Y_train)\n",
    "max_y=np.max(Y_train)"
   ]
  },
  {
   "cell_type": "code",
   "execution_count": 18,
   "id": "c141b0c1-5073-44ba-83b8-e093544120f8",
   "metadata": {},
   "outputs": [],
   "source": [
    "X_train=(max_x-X_train)/(max_x-min_x)\n",
    "Y_train=(max_y-Y_train)/(max_y-min_y)\n",
    "X_test=(max_x-X_test)/(max_x-min_x)\n",
    "Y_test=(max_y-Y_test)/(max_y-min_y)\n"
   ]
  },
  {
   "cell_type": "code",
   "execution_count": 19,
   "id": "2762035f-26bf-4928-abf1-2167062dadd9",
   "metadata": {},
   "outputs": [],
   "source": [
    "w=[1,1,1,1,1,1,1,1,1,1,1,1]\n",
    "online_learning(X_train,Y_train,w)"
   ]
  },
  {
   "cell_type": "code",
   "execution_count": 20,
   "id": "5000556c-668e-4fff-b449-5e8e946904ce",
   "metadata": {},
   "outputs": [
    {
     "name": "stdout",
     "output_type": "stream",
     "text": [
      "avg diff  2.7579277267177464\n"
     ]
    }
   ],
   "source": [
    "diff=0\n",
    "for i in range(len(X_test)):\n",
    "    y_pred=sum([w[j] * X_test[i][j] for j in range(len(X_test[i]))])+w[-1]\n",
    "#    print(\"actual : \",y[i])\n",
    "    diff+=abs(Y_test[i]-y_pred)\n",
    "\n",
    "print(\"avg diff \",diff/len(X_train))"
   ]
  },
  {
   "cell_type": "code",
   "execution_count": null,
   "id": "6943e706-7263-47a9-ba5b-be78bee13faa",
   "metadata": {},
   "outputs": [],
   "source": []
  }
 ],
 "metadata": {
  "kernelspec": {
   "display_name": "Python 3 (ipykernel)",
   "language": "python",
   "name": "python3"
  },
  "language_info": {
   "codemirror_mode": {
    "name": "ipython",
    "version": 3
   },
   "file_extension": ".py",
   "mimetype": "text/x-python",
   "name": "python",
   "nbconvert_exporter": "python",
   "pygments_lexer": "ipython3",
   "version": "3.11.3"
  }
 },
 "nbformat": 4,
 "nbformat_minor": 5
}
