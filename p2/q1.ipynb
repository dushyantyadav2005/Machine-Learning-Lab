{
 "cells": [
  {
   "cell_type": "code",
   "execution_count": 1,
   "id": "2fd77e42-049e-46b1-986f-20351397e6cc",
   "metadata": {},
   "outputs": [],
   "source": [
    "import pandas as pd\n",
    "import numpy as np\n",
    "import matplotlib.pyplot as plt\n",
    "%matplotlib inline"
   ]
  },
  {
   "cell_type": "code",
   "execution_count": 2,
   "id": "3ff0c69c-49ca-4748-8d84-9156dc905a1e",
   "metadata": {},
   "outputs": [],
   "source": [
    "df=pd.read_csv(\"advertising.csv\")"
   ]
  },
  {
   "cell_type": "code",
   "execution_count": 3,
   "id": "2e777ebd-31f8-46b2-bb1f-7681dbee79e9",
   "metadata": {},
   "outputs": [
    {
     "data": {
      "text/plain": [
       "(200, 4)"
      ]
     },
     "execution_count": 3,
     "metadata": {},
     "output_type": "execute_result"
    }
   ],
   "source": [
    "df.shape"
   ]
  },
  {
   "cell_type": "code",
   "execution_count": 4,
   "id": "26bc72af-0301-44d8-b47d-b83ba832cb37",
   "metadata": {},
   "outputs": [
    {
     "data": {
      "text/html": [
       "<div>\n",
       "<style scoped>\n",
       "    .dataframe tbody tr th:only-of-type {\n",
       "        vertical-align: middle;\n",
       "    }\n",
       "\n",
       "    .dataframe tbody tr th {\n",
       "        vertical-align: top;\n",
       "    }\n",
       "\n",
       "    .dataframe thead th {\n",
       "        text-align: right;\n",
       "    }\n",
       "</style>\n",
       "<table border=\"1\" class=\"dataframe\">\n",
       "  <thead>\n",
       "    <tr style=\"text-align: right;\">\n",
       "      <th></th>\n",
       "      <th>TV</th>\n",
       "      <th>Radio</th>\n",
       "      <th>Newspaper</th>\n",
       "      <th>Sales</th>\n",
       "    </tr>\n",
       "  </thead>\n",
       "  <tbody>\n",
       "    <tr>\n",
       "      <th>0</th>\n",
       "      <td>230.1</td>\n",
       "      <td>37.8</td>\n",
       "      <td>69.2</td>\n",
       "      <td>22.1</td>\n",
       "    </tr>\n",
       "    <tr>\n",
       "      <th>1</th>\n",
       "      <td>44.5</td>\n",
       "      <td>39.3</td>\n",
       "      <td>45.1</td>\n",
       "      <td>10.4</td>\n",
       "    </tr>\n",
       "    <tr>\n",
       "      <th>2</th>\n",
       "      <td>17.2</td>\n",
       "      <td>45.9</td>\n",
       "      <td>69.3</td>\n",
       "      <td>12.0</td>\n",
       "    </tr>\n",
       "    <tr>\n",
       "      <th>3</th>\n",
       "      <td>151.5</td>\n",
       "      <td>41.3</td>\n",
       "      <td>58.5</td>\n",
       "      <td>16.5</td>\n",
       "    </tr>\n",
       "    <tr>\n",
       "      <th>4</th>\n",
       "      <td>180.8</td>\n",
       "      <td>10.8</td>\n",
       "      <td>58.4</td>\n",
       "      <td>17.9</td>\n",
       "    </tr>\n",
       "  </tbody>\n",
       "</table>\n",
       "</div>"
      ],
      "text/plain": [
       "      TV  Radio  Newspaper  Sales\n",
       "0  230.1   37.8       69.2   22.1\n",
       "1   44.5   39.3       45.1   10.4\n",
       "2   17.2   45.9       69.3   12.0\n",
       "3  151.5   41.3       58.5   16.5\n",
       "4  180.8   10.8       58.4   17.9"
      ]
     },
     "execution_count": 4,
     "metadata": {},
     "output_type": "execute_result"
    }
   ],
   "source": [
    "df.head()"
   ]
  },
  {
   "cell_type": "code",
   "execution_count": 5,
   "id": "7ce41994-9d08-43c4-afc0-0672e6fce4b8",
   "metadata": {},
   "outputs": [],
   "source": [
    "Y=df[\"Sales\"]\n",
    "Y=np.array(Y)\n",
    "X=df.drop(columns=[\"Sales\"]);\n",
    "X=np.array(X)\n",
    "\n",
    "#split and standardization\n",
    "from sklearn.model_selection import train_test_split\n",
    "X_train,X_test,Y_train,Y_test=train_test_split(X,Y,test_size=0.25,random_state=42)\n"
   ]
  },
  {
   "cell_type": "code",
   "execution_count": 6,
   "id": "64ad1f86-57c7-42a6-a5a1-d68eed7077dc",
   "metadata": {},
   "outputs": [],
   "source": [
    "## standarization\n",
    "def standarization(X_train,Y_train,X_test,Y_test):\n",
    "    mean=np.mean(X_train,axis=0)\n",
    "    stan_dev=np.std(X_train,axis=0)\n",
    "    X_train=(X_train-mean)/stan_dev\n",
    "    X_test=(X_test-mean)/stan_dev\n",
    "    mean_y=np.mean(Y_train)\n",
    "    stan_y=np.std(Y_train)\n",
    "    Y_train=(Y_train-mean_y)/stan_y\n",
    "    Y_test=(Y_train-mean_y)/stan_y\n",
    "\n",
    "standarization(X_train,Y_train,X_test,Y_test);\n"
   ]
  },
  {
   "cell_type": "code",
   "execution_count": 7,
   "id": "96aa557c-1694-4563-9f87-f86ce957e729",
   "metadata": {},
   "outputs": [],
   "source": [
    "def online_learning(x, y, w):\n",
    "    learning_rate=0.0001\n",
    "    loss=[]\n",
    "    for i in range(len(x)):\n",
    "        y_pred = sum([w[j] * x[i][j] for j in range(len(x[i]))])\n",
    "        y_pred+= w[-1] # bias term\n",
    "        error = y[i] - y_pred\n",
    "        for j in range(len(w)):\n",
    "            if(j==len(w)-1):\n",
    "                w[j] -= -2*learning_rate * error #bias term diffrention different\n",
    "            else:\n",
    "               w[j] -= -2*learning_rate * error * x[i][j]  \n",
    "        # plt.plot(loss)\n",
    "    # plt.show()\n",
    "\n",
    "w=[1,1,1]\n",
    "online_learning(X_train,Y_train,w)"
   ]
  },
  {
   "cell_type": "code",
   "execution_count": 8,
   "id": "3d94a5ba-8d07-4a44-bb6e-72a59f8de513",
   "metadata": {},
   "outputs": [
    {
     "name": "stdout",
     "output_type": "stream",
     "text": [
      "avg diff  1.1889550925823234e+72\n"
     ]
    }
   ],
   "source": [
    "diff=0\n",
    "for i in range(len(X_test)):\n",
    "    y_pred=sum([w[j] * X_test[i][j] for j in range(len(X_test[i]))])+w[-1]\n",
    "#    print(\"actual : \",y[i])\n",
    "    diff+=abs(Y_test[i]-y_pred)\n",
    "\n",
    "print(\"avg diff \",diff/len(X_test))"
   ]
  },
  {
   "cell_type": "code",
   "execution_count": 9,
   "id": "e7e1aab9-4338-4bf6-be39-1abe6bdc9550",
   "metadata": {},
   "outputs": [],
   "source": [
    "Y=df[\"Sales\"]\n",
    "Y=np.array(Y)\n",
    "X=df.drop(columns=[\"Sales\"]);\n",
    "X=np.array(X)"
   ]
  },
  {
   "cell_type": "code",
   "execution_count": 10,
   "id": "c74e2079-5e26-4cf6-8e54-820334967ddd",
   "metadata": {},
   "outputs": [],
   "source": [
    "max_x=np.max(X_train,axis=0)\n",
    "min_x=np.min(X_train,axis=0)\n",
    "min_y=np.min(Y_train)\n",
    "max_y=np.max(Y_train)"
   ]
  },
  {
   "cell_type": "code",
   "execution_count": 11,
   "id": "908243ee-3040-4e3c-999b-d1e57956b416",
   "metadata": {},
   "outputs": [],
   "source": [
    "X_train=(max_x-X_train)/(max_x-min_x)\n",
    "Y_train=(max_y-Y_train)/(max_y-min_y)\n",
    "X_test=(max_x-X_test)/(max_x-min_x)\n",
    "Y_test=(max_y-Y_test)/(max_y-min_y)\n",
    "\n"
   ]
  },
  {
   "cell_type": "code",
   "execution_count": 12,
   "id": "72d1e95f-3686-4573-b542-ff4902ec903d",
   "metadata": {},
   "outputs": [],
   "source": [
    "w=[1,1,1]\n",
    "online_learning(X_train,Y_train,w)"
   ]
  },
  {
   "cell_type": "code",
   "execution_count": 13,
   "id": "b150b131-b775-45a7-9ba3-f85dd3b0196d",
   "metadata": {},
   "outputs": [
    {
     "name": "stdout",
     "output_type": "stream",
     "text": [
      "avg diff  2.137050759598639\n"
     ]
    }
   ],
   "source": [
    "diff=0\n",
    "for i in range(len(X_test)):\n",
    "    y_pred=sum([w[j] * X_test[i][j] for j in range(len(X_test[i]))])+w[-1]\n",
    "#    print(\"actual : \",y[i])\n",
    "    diff+=abs(Y_test[i]-y_pred)\n",
    "\n",
    "print(\"avg diff \",diff/len(X_test))"
   ]
  },
  {
   "cell_type": "code",
   "execution_count": null,
   "id": "10aa5f69-839f-42d3-bfe3-7085d393684e",
   "metadata": {},
   "outputs": [],
   "source": []
  }
 ],
 "metadata": {
  "kernelspec": {
   "display_name": "Python 3",
   "language": "python",
   "name": "python3"
  },
  "language_info": {
   "codemirror_mode": {
    "name": "ipython",
    "version": 3
   },
   "file_extension": ".py",
   "mimetype": "text/x-python",
   "name": "python",
   "nbconvert_exporter": "python",
   "pygments_lexer": "ipython3",
   "version": "3.11.3"
  }
 },
 "nbformat": 4,
 "nbformat_minor": 5
}
